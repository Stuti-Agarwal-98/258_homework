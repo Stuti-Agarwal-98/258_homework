{
  "nbformat": 4,
  "nbformat_minor": 0,
  "metadata": {
    "colab": {
      "name": "pytorch MNIST classification.ipynb",
      "provenance": []
    },
    "kernelspec": {
      "name": "python3",
      "display_name": "Python 3"
    },
    "language_info": {
      "name": "python"
    },
    "widgets": {
      "application/vnd.jupyter.widget-state+json": {
        "139930026a8048c091e14044823bf62f": {
          "model_module": "@jupyter-widgets/controls",
          "model_name": "HBoxModel",
          "state": {
            "_view_name": "HBoxView",
            "_dom_classes": [],
            "_model_name": "HBoxModel",
            "_view_module": "@jupyter-widgets/controls",
            "_model_module_version": "1.5.0",
            "_view_count": null,
            "_view_module_version": "1.5.0",
            "box_style": "",
            "layout": "IPY_MODEL_8ff959dd436b47c48112aa002c7bab91",
            "_model_module": "@jupyter-widgets/controls",
            "children": [
              "IPY_MODEL_0bb984fce1944fb7ad8f29bea9d50ba1",
              "IPY_MODEL_a6cad61a6bfd444288405eaacaa63996"
            ]
          }
        },
        "8ff959dd436b47c48112aa002c7bab91": {
          "model_module": "@jupyter-widgets/base",
          "model_name": "LayoutModel",
          "state": {
            "_view_name": "LayoutView",
            "grid_template_rows": null,
            "right": null,
            "justify_content": null,
            "_view_module": "@jupyter-widgets/base",
            "overflow": null,
            "_model_module_version": "1.2.0",
            "_view_count": null,
            "flex_flow": null,
            "width": null,
            "min_width": null,
            "border": null,
            "align_items": null,
            "bottom": null,
            "_model_module": "@jupyter-widgets/base",
            "top": null,
            "grid_column": null,
            "overflow_y": null,
            "overflow_x": null,
            "grid_auto_flow": null,
            "grid_area": null,
            "grid_template_columns": null,
            "flex": null,
            "_model_name": "LayoutModel",
            "justify_items": null,
            "grid_row": null,
            "max_height": null,
            "align_content": null,
            "visibility": null,
            "align_self": null,
            "height": null,
            "min_height": null,
            "padding": null,
            "grid_auto_rows": null,
            "grid_gap": null,
            "max_width": null,
            "order": null,
            "_view_module_version": "1.2.0",
            "grid_template_areas": null,
            "object_position": null,
            "object_fit": null,
            "grid_auto_columns": null,
            "margin": null,
            "display": null,
            "left": null
          }
        },
        "0bb984fce1944fb7ad8f29bea9d50ba1": {
          "model_module": "@jupyter-widgets/controls",
          "model_name": "FloatProgressModel",
          "state": {
            "_view_name": "ProgressView",
            "style": "IPY_MODEL_4e78c4fddb5c4f56b1ff04817c59b14f",
            "_dom_classes": [],
            "description": "",
            "_model_name": "FloatProgressModel",
            "bar_style": "success",
            "max": 9912422,
            "_view_module": "@jupyter-widgets/controls",
            "_model_module_version": "1.5.0",
            "value": 9912422,
            "_view_count": null,
            "_view_module_version": "1.5.0",
            "orientation": "horizontal",
            "min": 0,
            "description_tooltip": null,
            "_model_module": "@jupyter-widgets/controls",
            "layout": "IPY_MODEL_f777962da0dd415dab708759cd48294d"
          }
        },
        "a6cad61a6bfd444288405eaacaa63996": {
          "model_module": "@jupyter-widgets/controls",
          "model_name": "HTMLModel",
          "state": {
            "_view_name": "HTMLView",
            "style": "IPY_MODEL_b8ad127589cc40099b68b9cdf8e84da0",
            "_dom_classes": [],
            "description": "",
            "_model_name": "HTMLModel",
            "placeholder": "​",
            "_view_module": "@jupyter-widgets/controls",
            "_model_module_version": "1.5.0",
            "value": " 9913344/? [00:04&lt;00:00, 2339740.94it/s]",
            "_view_count": null,
            "_view_module_version": "1.5.0",
            "description_tooltip": null,
            "_model_module": "@jupyter-widgets/controls",
            "layout": "IPY_MODEL_4736ace9d39e49b8868f16ca98730bf0"
          }
        },
        "4e78c4fddb5c4f56b1ff04817c59b14f": {
          "model_module": "@jupyter-widgets/controls",
          "model_name": "ProgressStyleModel",
          "state": {
            "_view_name": "StyleView",
            "_model_name": "ProgressStyleModel",
            "description_width": "initial",
            "_view_module": "@jupyter-widgets/base",
            "_model_module_version": "1.5.0",
            "_view_count": null,
            "_view_module_version": "1.2.0",
            "bar_color": null,
            "_model_module": "@jupyter-widgets/controls"
          }
        },
        "f777962da0dd415dab708759cd48294d": {
          "model_module": "@jupyter-widgets/base",
          "model_name": "LayoutModel",
          "state": {
            "_view_name": "LayoutView",
            "grid_template_rows": null,
            "right": null,
            "justify_content": null,
            "_view_module": "@jupyter-widgets/base",
            "overflow": null,
            "_model_module_version": "1.2.0",
            "_view_count": null,
            "flex_flow": null,
            "width": null,
            "min_width": null,
            "border": null,
            "align_items": null,
            "bottom": null,
            "_model_module": "@jupyter-widgets/base",
            "top": null,
            "grid_column": null,
            "overflow_y": null,
            "overflow_x": null,
            "grid_auto_flow": null,
            "grid_area": null,
            "grid_template_columns": null,
            "flex": null,
            "_model_name": "LayoutModel",
            "justify_items": null,
            "grid_row": null,
            "max_height": null,
            "align_content": null,
            "visibility": null,
            "align_self": null,
            "height": null,
            "min_height": null,
            "padding": null,
            "grid_auto_rows": null,
            "grid_gap": null,
            "max_width": null,
            "order": null,
            "_view_module_version": "1.2.0",
            "grid_template_areas": null,
            "object_position": null,
            "object_fit": null,
            "grid_auto_columns": null,
            "margin": null,
            "display": null,
            "left": null
          }
        },
        "b8ad127589cc40099b68b9cdf8e84da0": {
          "model_module": "@jupyter-widgets/controls",
          "model_name": "DescriptionStyleModel",
          "state": {
            "_view_name": "StyleView",
            "_model_name": "DescriptionStyleModel",
            "description_width": "",
            "_view_module": "@jupyter-widgets/base",
            "_model_module_version": "1.5.0",
            "_view_count": null,
            "_view_module_version": "1.2.0",
            "_model_module": "@jupyter-widgets/controls"
          }
        },
        "4736ace9d39e49b8868f16ca98730bf0": {
          "model_module": "@jupyter-widgets/base",
          "model_name": "LayoutModel",
          "state": {
            "_view_name": "LayoutView",
            "grid_template_rows": null,
            "right": null,
            "justify_content": null,
            "_view_module": "@jupyter-widgets/base",
            "overflow": null,
            "_model_module_version": "1.2.0",
            "_view_count": null,
            "flex_flow": null,
            "width": null,
            "min_width": null,
            "border": null,
            "align_items": null,
            "bottom": null,
            "_model_module": "@jupyter-widgets/base",
            "top": null,
            "grid_column": null,
            "overflow_y": null,
            "overflow_x": null,
            "grid_auto_flow": null,
            "grid_area": null,
            "grid_template_columns": null,
            "flex": null,
            "_model_name": "LayoutModel",
            "justify_items": null,
            "grid_row": null,
            "max_height": null,
            "align_content": null,
            "visibility": null,
            "align_self": null,
            "height": null,
            "min_height": null,
            "padding": null,
            "grid_auto_rows": null,
            "grid_gap": null,
            "max_width": null,
            "order": null,
            "_view_module_version": "1.2.0",
            "grid_template_areas": null,
            "object_position": null,
            "object_fit": null,
            "grid_auto_columns": null,
            "margin": null,
            "display": null,
            "left": null
          }
        },
        "cc971f90389c4be8a942509c5f9c9903": {
          "model_module": "@jupyter-widgets/controls",
          "model_name": "HBoxModel",
          "state": {
            "_view_name": "HBoxView",
            "_dom_classes": [],
            "_model_name": "HBoxModel",
            "_view_module": "@jupyter-widgets/controls",
            "_model_module_version": "1.5.0",
            "_view_count": null,
            "_view_module_version": "1.5.0",
            "box_style": "",
            "layout": "IPY_MODEL_16d54267a04042eca800410605845521",
            "_model_module": "@jupyter-widgets/controls",
            "children": [
              "IPY_MODEL_a143d5a08ab34fbcaae1fb54b3066922",
              "IPY_MODEL_a0c90fe4957046cd90675a16ca0ed87a"
            ]
          }
        },
        "16d54267a04042eca800410605845521": {
          "model_module": "@jupyter-widgets/base",
          "model_name": "LayoutModel",
          "state": {
            "_view_name": "LayoutView",
            "grid_template_rows": null,
            "right": null,
            "justify_content": null,
            "_view_module": "@jupyter-widgets/base",
            "overflow": null,
            "_model_module_version": "1.2.0",
            "_view_count": null,
            "flex_flow": null,
            "width": null,
            "min_width": null,
            "border": null,
            "align_items": null,
            "bottom": null,
            "_model_module": "@jupyter-widgets/base",
            "top": null,
            "grid_column": null,
            "overflow_y": null,
            "overflow_x": null,
            "grid_auto_flow": null,
            "grid_area": null,
            "grid_template_columns": null,
            "flex": null,
            "_model_name": "LayoutModel",
            "justify_items": null,
            "grid_row": null,
            "max_height": null,
            "align_content": null,
            "visibility": null,
            "align_self": null,
            "height": null,
            "min_height": null,
            "padding": null,
            "grid_auto_rows": null,
            "grid_gap": null,
            "max_width": null,
            "order": null,
            "_view_module_version": "1.2.0",
            "grid_template_areas": null,
            "object_position": null,
            "object_fit": null,
            "grid_auto_columns": null,
            "margin": null,
            "display": null,
            "left": null
          }
        },
        "a143d5a08ab34fbcaae1fb54b3066922": {
          "model_module": "@jupyter-widgets/controls",
          "model_name": "FloatProgressModel",
          "state": {
            "_view_name": "ProgressView",
            "style": "IPY_MODEL_228968d26844497b83e78ce10dbd353c",
            "_dom_classes": [],
            "description": "",
            "_model_name": "FloatProgressModel",
            "bar_style": "success",
            "max": 28881,
            "_view_module": "@jupyter-widgets/controls",
            "_model_module_version": "1.5.0",
            "value": 28881,
            "_view_count": null,
            "_view_module_version": "1.5.0",
            "orientation": "horizontal",
            "min": 0,
            "description_tooltip": null,
            "_model_module": "@jupyter-widgets/controls",
            "layout": "IPY_MODEL_9976a4f205ec42008463ff66e41b8565"
          }
        },
        "a0c90fe4957046cd90675a16ca0ed87a": {
          "model_module": "@jupyter-widgets/controls",
          "model_name": "HTMLModel",
          "state": {
            "_view_name": "HTMLView",
            "style": "IPY_MODEL_c2c0fabd644d41878ebc9b6ffa9095c2",
            "_dom_classes": [],
            "description": "",
            "_model_name": "HTMLModel",
            "placeholder": "​",
            "_view_module": "@jupyter-widgets/controls",
            "_model_module_version": "1.5.0",
            "value": " 29696/? [00:02&lt;00:00, 11317.54it/s]",
            "_view_count": null,
            "_view_module_version": "1.5.0",
            "description_tooltip": null,
            "_model_module": "@jupyter-widgets/controls",
            "layout": "IPY_MODEL_9a9db3c7854440ddbdf23461a0591a5d"
          }
        },
        "228968d26844497b83e78ce10dbd353c": {
          "model_module": "@jupyter-widgets/controls",
          "model_name": "ProgressStyleModel",
          "state": {
            "_view_name": "StyleView",
            "_model_name": "ProgressStyleModel",
            "description_width": "initial",
            "_view_module": "@jupyter-widgets/base",
            "_model_module_version": "1.5.0",
            "_view_count": null,
            "_view_module_version": "1.2.0",
            "bar_color": null,
            "_model_module": "@jupyter-widgets/controls"
          }
        },
        "9976a4f205ec42008463ff66e41b8565": {
          "model_module": "@jupyter-widgets/base",
          "model_name": "LayoutModel",
          "state": {
            "_view_name": "LayoutView",
            "grid_template_rows": null,
            "right": null,
            "justify_content": null,
            "_view_module": "@jupyter-widgets/base",
            "overflow": null,
            "_model_module_version": "1.2.0",
            "_view_count": null,
            "flex_flow": null,
            "width": null,
            "min_width": null,
            "border": null,
            "align_items": null,
            "bottom": null,
            "_model_module": "@jupyter-widgets/base",
            "top": null,
            "grid_column": null,
            "overflow_y": null,
            "overflow_x": null,
            "grid_auto_flow": null,
            "grid_area": null,
            "grid_template_columns": null,
            "flex": null,
            "_model_name": "LayoutModel",
            "justify_items": null,
            "grid_row": null,
            "max_height": null,
            "align_content": null,
            "visibility": null,
            "align_self": null,
            "height": null,
            "min_height": null,
            "padding": null,
            "grid_auto_rows": null,
            "grid_gap": null,
            "max_width": null,
            "order": null,
            "_view_module_version": "1.2.0",
            "grid_template_areas": null,
            "object_position": null,
            "object_fit": null,
            "grid_auto_columns": null,
            "margin": null,
            "display": null,
            "left": null
          }
        },
        "c2c0fabd644d41878ebc9b6ffa9095c2": {
          "model_module": "@jupyter-widgets/controls",
          "model_name": "DescriptionStyleModel",
          "state": {
            "_view_name": "StyleView",
            "_model_name": "DescriptionStyleModel",
            "description_width": "",
            "_view_module": "@jupyter-widgets/base",
            "_model_module_version": "1.5.0",
            "_view_count": null,
            "_view_module_version": "1.2.0",
            "_model_module": "@jupyter-widgets/controls"
          }
        },
        "9a9db3c7854440ddbdf23461a0591a5d": {
          "model_module": "@jupyter-widgets/base",
          "model_name": "LayoutModel",
          "state": {
            "_view_name": "LayoutView",
            "grid_template_rows": null,
            "right": null,
            "justify_content": null,
            "_view_module": "@jupyter-widgets/base",
            "overflow": null,
            "_model_module_version": "1.2.0",
            "_view_count": null,
            "flex_flow": null,
            "width": null,
            "min_width": null,
            "border": null,
            "align_items": null,
            "bottom": null,
            "_model_module": "@jupyter-widgets/base",
            "top": null,
            "grid_column": null,
            "overflow_y": null,
            "overflow_x": null,
            "grid_auto_flow": null,
            "grid_area": null,
            "grid_template_columns": null,
            "flex": null,
            "_model_name": "LayoutModel",
            "justify_items": null,
            "grid_row": null,
            "max_height": null,
            "align_content": null,
            "visibility": null,
            "align_self": null,
            "height": null,
            "min_height": null,
            "padding": null,
            "grid_auto_rows": null,
            "grid_gap": null,
            "max_width": null,
            "order": null,
            "_view_module_version": "1.2.0",
            "grid_template_areas": null,
            "object_position": null,
            "object_fit": null,
            "grid_auto_columns": null,
            "margin": null,
            "display": null,
            "left": null
          }
        },
        "a4bb596b4b3a49b4bf67a20aef82f009": {
          "model_module": "@jupyter-widgets/controls",
          "model_name": "HBoxModel",
          "state": {
            "_view_name": "HBoxView",
            "_dom_classes": [],
            "_model_name": "HBoxModel",
            "_view_module": "@jupyter-widgets/controls",
            "_model_module_version": "1.5.0",
            "_view_count": null,
            "_view_module_version": "1.5.0",
            "box_style": "",
            "layout": "IPY_MODEL_399eda0a776542a98049fe6f4fac8502",
            "_model_module": "@jupyter-widgets/controls",
            "children": [
              "IPY_MODEL_63d2d96a6b144b42955adc6c20dd1d6d",
              "IPY_MODEL_a848c2687f884ed3b246dc8d4a39a3fa"
            ]
          }
        },
        "399eda0a776542a98049fe6f4fac8502": {
          "model_module": "@jupyter-widgets/base",
          "model_name": "LayoutModel",
          "state": {
            "_view_name": "LayoutView",
            "grid_template_rows": null,
            "right": null,
            "justify_content": null,
            "_view_module": "@jupyter-widgets/base",
            "overflow": null,
            "_model_module_version": "1.2.0",
            "_view_count": null,
            "flex_flow": null,
            "width": null,
            "min_width": null,
            "border": null,
            "align_items": null,
            "bottom": null,
            "_model_module": "@jupyter-widgets/base",
            "top": null,
            "grid_column": null,
            "overflow_y": null,
            "overflow_x": null,
            "grid_auto_flow": null,
            "grid_area": null,
            "grid_template_columns": null,
            "flex": null,
            "_model_name": "LayoutModel",
            "justify_items": null,
            "grid_row": null,
            "max_height": null,
            "align_content": null,
            "visibility": null,
            "align_self": null,
            "height": null,
            "min_height": null,
            "padding": null,
            "grid_auto_rows": null,
            "grid_gap": null,
            "max_width": null,
            "order": null,
            "_view_module_version": "1.2.0",
            "grid_template_areas": null,
            "object_position": null,
            "object_fit": null,
            "grid_auto_columns": null,
            "margin": null,
            "display": null,
            "left": null
          }
        },
        "63d2d96a6b144b42955adc6c20dd1d6d": {
          "model_module": "@jupyter-widgets/controls",
          "model_name": "FloatProgressModel",
          "state": {
            "_view_name": "ProgressView",
            "style": "IPY_MODEL_cb0e15f584ef4c1fa864d6603d1c1087",
            "_dom_classes": [],
            "description": "",
            "_model_name": "FloatProgressModel",
            "bar_style": "success",
            "max": 1648877,
            "_view_module": "@jupyter-widgets/controls",
            "_model_module_version": "1.5.0",
            "value": 1648877,
            "_view_count": null,
            "_view_module_version": "1.5.0",
            "orientation": "horizontal",
            "min": 0,
            "description_tooltip": null,
            "_model_module": "@jupyter-widgets/controls",
            "layout": "IPY_MODEL_febbd370f3a24d7e8d3ee245e3944669"
          }
        },
        "a848c2687f884ed3b246dc8d4a39a3fa": {
          "model_module": "@jupyter-widgets/controls",
          "model_name": "HTMLModel",
          "state": {
            "_view_name": "HTMLView",
            "style": "IPY_MODEL_19de4c8e4a564235a098d99278711f1a",
            "_dom_classes": [],
            "description": "",
            "_model_name": "HTMLModel",
            "placeholder": "​",
            "_view_module": "@jupyter-widgets/controls",
            "_model_module_version": "1.5.0",
            "value": " 1649664/? [00:01&lt;00:00, 1310840.63it/s]",
            "_view_count": null,
            "_view_module_version": "1.5.0",
            "description_tooltip": null,
            "_model_module": "@jupyter-widgets/controls",
            "layout": "IPY_MODEL_17f8434f941e43c1a19ea81edfa4fca0"
          }
        },
        "cb0e15f584ef4c1fa864d6603d1c1087": {
          "model_module": "@jupyter-widgets/controls",
          "model_name": "ProgressStyleModel",
          "state": {
            "_view_name": "StyleView",
            "_model_name": "ProgressStyleModel",
            "description_width": "initial",
            "_view_module": "@jupyter-widgets/base",
            "_model_module_version": "1.5.0",
            "_view_count": null,
            "_view_module_version": "1.2.0",
            "bar_color": null,
            "_model_module": "@jupyter-widgets/controls"
          }
        },
        "febbd370f3a24d7e8d3ee245e3944669": {
          "model_module": "@jupyter-widgets/base",
          "model_name": "LayoutModel",
          "state": {
            "_view_name": "LayoutView",
            "grid_template_rows": null,
            "right": null,
            "justify_content": null,
            "_view_module": "@jupyter-widgets/base",
            "overflow": null,
            "_model_module_version": "1.2.0",
            "_view_count": null,
            "flex_flow": null,
            "width": null,
            "min_width": null,
            "border": null,
            "align_items": null,
            "bottom": null,
            "_model_module": "@jupyter-widgets/base",
            "top": null,
            "grid_column": null,
            "overflow_y": null,
            "overflow_x": null,
            "grid_auto_flow": null,
            "grid_area": null,
            "grid_template_columns": null,
            "flex": null,
            "_model_name": "LayoutModel",
            "justify_items": null,
            "grid_row": null,
            "max_height": null,
            "align_content": null,
            "visibility": null,
            "align_self": null,
            "height": null,
            "min_height": null,
            "padding": null,
            "grid_auto_rows": null,
            "grid_gap": null,
            "max_width": null,
            "order": null,
            "_view_module_version": "1.2.0",
            "grid_template_areas": null,
            "object_position": null,
            "object_fit": null,
            "grid_auto_columns": null,
            "margin": null,
            "display": null,
            "left": null
          }
        },
        "19de4c8e4a564235a098d99278711f1a": {
          "model_module": "@jupyter-widgets/controls",
          "model_name": "DescriptionStyleModel",
          "state": {
            "_view_name": "StyleView",
            "_model_name": "DescriptionStyleModel",
            "description_width": "",
            "_view_module": "@jupyter-widgets/base",
            "_model_module_version": "1.5.0",
            "_view_count": null,
            "_view_module_version": "1.2.0",
            "_model_module": "@jupyter-widgets/controls"
          }
        },
        "17f8434f941e43c1a19ea81edfa4fca0": {
          "model_module": "@jupyter-widgets/base",
          "model_name": "LayoutModel",
          "state": {
            "_view_name": "LayoutView",
            "grid_template_rows": null,
            "right": null,
            "justify_content": null,
            "_view_module": "@jupyter-widgets/base",
            "overflow": null,
            "_model_module_version": "1.2.0",
            "_view_count": null,
            "flex_flow": null,
            "width": null,
            "min_width": null,
            "border": null,
            "align_items": null,
            "bottom": null,
            "_model_module": "@jupyter-widgets/base",
            "top": null,
            "grid_column": null,
            "overflow_y": null,
            "overflow_x": null,
            "grid_auto_flow": null,
            "grid_area": null,
            "grid_template_columns": null,
            "flex": null,
            "_model_name": "LayoutModel",
            "justify_items": null,
            "grid_row": null,
            "max_height": null,
            "align_content": null,
            "visibility": null,
            "align_self": null,
            "height": null,
            "min_height": null,
            "padding": null,
            "grid_auto_rows": null,
            "grid_gap": null,
            "max_width": null,
            "order": null,
            "_view_module_version": "1.2.0",
            "grid_template_areas": null,
            "object_position": null,
            "object_fit": null,
            "grid_auto_columns": null,
            "margin": null,
            "display": null,
            "left": null
          }
        },
        "0a14a94de62f4978969d1f8402c9fe1f": {
          "model_module": "@jupyter-widgets/controls",
          "model_name": "HBoxModel",
          "state": {
            "_view_name": "HBoxView",
            "_dom_classes": [],
            "_model_name": "HBoxModel",
            "_view_module": "@jupyter-widgets/controls",
            "_model_module_version": "1.5.0",
            "_view_count": null,
            "_view_module_version": "1.5.0",
            "box_style": "",
            "layout": "IPY_MODEL_e260a190146547398fd034fe0960d7b2",
            "_model_module": "@jupyter-widgets/controls",
            "children": [
              "IPY_MODEL_585ff4d8a8524ef0b6614bbac203fd58",
              "IPY_MODEL_27e1b2bc461e4d5dbe45ba896ac6c2b6"
            ]
          }
        },
        "e260a190146547398fd034fe0960d7b2": {
          "model_module": "@jupyter-widgets/base",
          "model_name": "LayoutModel",
          "state": {
            "_view_name": "LayoutView",
            "grid_template_rows": null,
            "right": null,
            "justify_content": null,
            "_view_module": "@jupyter-widgets/base",
            "overflow": null,
            "_model_module_version": "1.2.0",
            "_view_count": null,
            "flex_flow": null,
            "width": null,
            "min_width": null,
            "border": null,
            "align_items": null,
            "bottom": null,
            "_model_module": "@jupyter-widgets/base",
            "top": null,
            "grid_column": null,
            "overflow_y": null,
            "overflow_x": null,
            "grid_auto_flow": null,
            "grid_area": null,
            "grid_template_columns": null,
            "flex": null,
            "_model_name": "LayoutModel",
            "justify_items": null,
            "grid_row": null,
            "max_height": null,
            "align_content": null,
            "visibility": null,
            "align_self": null,
            "height": null,
            "min_height": null,
            "padding": null,
            "grid_auto_rows": null,
            "grid_gap": null,
            "max_width": null,
            "order": null,
            "_view_module_version": "1.2.0",
            "grid_template_areas": null,
            "object_position": null,
            "object_fit": null,
            "grid_auto_columns": null,
            "margin": null,
            "display": null,
            "left": null
          }
        },
        "585ff4d8a8524ef0b6614bbac203fd58": {
          "model_module": "@jupyter-widgets/controls",
          "model_name": "FloatProgressModel",
          "state": {
            "_view_name": "ProgressView",
            "style": "IPY_MODEL_cd4541c81423417c8aaec5505d023c8f",
            "_dom_classes": [],
            "description": "",
            "_model_name": "FloatProgressModel",
            "bar_style": "success",
            "max": 4542,
            "_view_module": "@jupyter-widgets/controls",
            "_model_module_version": "1.5.0",
            "value": 4542,
            "_view_count": null,
            "_view_module_version": "1.5.0",
            "orientation": "horizontal",
            "min": 0,
            "description_tooltip": null,
            "_model_module": "@jupyter-widgets/controls",
            "layout": "IPY_MODEL_5255f01c167e4389abd321ea8688ac2f"
          }
        },
        "27e1b2bc461e4d5dbe45ba896ac6c2b6": {
          "model_module": "@jupyter-widgets/controls",
          "model_name": "HTMLModel",
          "state": {
            "_view_name": "HTMLView",
            "style": "IPY_MODEL_69d4d2c7c8454e42a128ae4cc31b89b7",
            "_dom_classes": [],
            "description": "",
            "_model_name": "HTMLModel",
            "placeholder": "​",
            "_view_module": "@jupyter-widgets/controls",
            "_model_module_version": "1.5.0",
            "value": " 5120/? [00:00&lt;00:00, 14447.52it/s]",
            "_view_count": null,
            "_view_module_version": "1.5.0",
            "description_tooltip": null,
            "_model_module": "@jupyter-widgets/controls",
            "layout": "IPY_MODEL_16a8141fd892421a9127134a66ef090f"
          }
        },
        "cd4541c81423417c8aaec5505d023c8f": {
          "model_module": "@jupyter-widgets/controls",
          "model_name": "ProgressStyleModel",
          "state": {
            "_view_name": "StyleView",
            "_model_name": "ProgressStyleModel",
            "description_width": "initial",
            "_view_module": "@jupyter-widgets/base",
            "_model_module_version": "1.5.0",
            "_view_count": null,
            "_view_module_version": "1.2.0",
            "bar_color": null,
            "_model_module": "@jupyter-widgets/controls"
          }
        },
        "5255f01c167e4389abd321ea8688ac2f": {
          "model_module": "@jupyter-widgets/base",
          "model_name": "LayoutModel",
          "state": {
            "_view_name": "LayoutView",
            "grid_template_rows": null,
            "right": null,
            "justify_content": null,
            "_view_module": "@jupyter-widgets/base",
            "overflow": null,
            "_model_module_version": "1.2.0",
            "_view_count": null,
            "flex_flow": null,
            "width": null,
            "min_width": null,
            "border": null,
            "align_items": null,
            "bottom": null,
            "_model_module": "@jupyter-widgets/base",
            "top": null,
            "grid_column": null,
            "overflow_y": null,
            "overflow_x": null,
            "grid_auto_flow": null,
            "grid_area": null,
            "grid_template_columns": null,
            "flex": null,
            "_model_name": "LayoutModel",
            "justify_items": null,
            "grid_row": null,
            "max_height": null,
            "align_content": null,
            "visibility": null,
            "align_self": null,
            "height": null,
            "min_height": null,
            "padding": null,
            "grid_auto_rows": null,
            "grid_gap": null,
            "max_width": null,
            "order": null,
            "_view_module_version": "1.2.0",
            "grid_template_areas": null,
            "object_position": null,
            "object_fit": null,
            "grid_auto_columns": null,
            "margin": null,
            "display": null,
            "left": null
          }
        },
        "69d4d2c7c8454e42a128ae4cc31b89b7": {
          "model_module": "@jupyter-widgets/controls",
          "model_name": "DescriptionStyleModel",
          "state": {
            "_view_name": "StyleView",
            "_model_name": "DescriptionStyleModel",
            "description_width": "",
            "_view_module": "@jupyter-widgets/base",
            "_model_module_version": "1.5.0",
            "_view_count": null,
            "_view_module_version": "1.2.0",
            "_model_module": "@jupyter-widgets/controls"
          }
        },
        "16a8141fd892421a9127134a66ef090f": {
          "model_module": "@jupyter-widgets/base",
          "model_name": "LayoutModel",
          "state": {
            "_view_name": "LayoutView",
            "grid_template_rows": null,
            "right": null,
            "justify_content": null,
            "_view_module": "@jupyter-widgets/base",
            "overflow": null,
            "_model_module_version": "1.2.0",
            "_view_count": null,
            "flex_flow": null,
            "width": null,
            "min_width": null,
            "border": null,
            "align_items": null,
            "bottom": null,
            "_model_module": "@jupyter-widgets/base",
            "top": null,
            "grid_column": null,
            "overflow_y": null,
            "overflow_x": null,
            "grid_auto_flow": null,
            "grid_area": null,
            "grid_template_columns": null,
            "flex": null,
            "_model_name": "LayoutModel",
            "justify_items": null,
            "grid_row": null,
            "max_height": null,
            "align_content": null,
            "visibility": null,
            "align_self": null,
            "height": null,
            "min_height": null,
            "padding": null,
            "grid_auto_rows": null,
            "grid_gap": null,
            "max_width": null,
            "order": null,
            "_view_module_version": "1.2.0",
            "grid_template_areas": null,
            "object_position": null,
            "object_fit": null,
            "grid_auto_columns": null,
            "margin": null,
            "display": null,
            "left": null
          }
        }
      }
    }
  },
  "cells": [
    {
      "cell_type": "code",
      "metadata": {
        "colab": {
          "base_uri": "https://localhost:8080/"
        },
        "id": "fMKooj2Q_yuI",
        "outputId": "b00f984a-2786-40ae-9f6e-2eeb12953d1a"
      },
      "source": [
        "import torch\n",
        "import torch.nn as nn\n",
        "import torchvision.transforms as transforms\n",
        "import torchvision.datasets as datasets\n",
        "from torch.autograd import Variable\n",
        "torch.cuda.is_available()"
      ],
      "execution_count": 1,
      "outputs": [
        {
          "output_type": "execute_result",
          "data": {
            "text/plain": [
              "False"
            ]
          },
          "metadata": {
            "tags": []
          },
          "execution_count": 1
        }
      ]
    },
    {
      "cell_type": "markdown",
      "metadata": {
        "id": "H-xq4GgJBf1Y"
      },
      "source": [
        "#data input"
      ]
    },
    {
      "cell_type": "code",
      "metadata": {
        "colab": {
          "base_uri": "https://localhost:8080/",
          "height": 769,
          "referenced_widgets": [
            "139930026a8048c091e14044823bf62f",
            "8ff959dd436b47c48112aa002c7bab91",
            "0bb984fce1944fb7ad8f29bea9d50ba1",
            "a6cad61a6bfd444288405eaacaa63996",
            "4e78c4fddb5c4f56b1ff04817c59b14f",
            "f777962da0dd415dab708759cd48294d",
            "b8ad127589cc40099b68b9cdf8e84da0",
            "4736ace9d39e49b8868f16ca98730bf0",
            "cc971f90389c4be8a942509c5f9c9903",
            "16d54267a04042eca800410605845521",
            "a143d5a08ab34fbcaae1fb54b3066922",
            "a0c90fe4957046cd90675a16ca0ed87a",
            "228968d26844497b83e78ce10dbd353c",
            "9976a4f205ec42008463ff66e41b8565",
            "c2c0fabd644d41878ebc9b6ffa9095c2",
            "9a9db3c7854440ddbdf23461a0591a5d",
            "a4bb596b4b3a49b4bf67a20aef82f009",
            "399eda0a776542a98049fe6f4fac8502",
            "63d2d96a6b144b42955adc6c20dd1d6d",
            "a848c2687f884ed3b246dc8d4a39a3fa",
            "cb0e15f584ef4c1fa864d6603d1c1087",
            "febbd370f3a24d7e8d3ee245e3944669",
            "19de4c8e4a564235a098d99278711f1a",
            "17f8434f941e43c1a19ea81edfa4fca0",
            "0a14a94de62f4978969d1f8402c9fe1f",
            "e260a190146547398fd034fe0960d7b2",
            "585ff4d8a8524ef0b6614bbac203fd58",
            "27e1b2bc461e4d5dbe45ba896ac6c2b6",
            "cd4541c81423417c8aaec5505d023c8f",
            "5255f01c167e4389abd321ea8688ac2f",
            "69d4d2c7c8454e42a128ae4cc31b89b7",
            "16a8141fd892421a9127134a66ef090f"
          ]
        },
        "id": "ajkcRAxsBkHe",
        "outputId": "261e1d3c-81d8-4b2d-a147-c7966d105e3b"
      },
      "source": [
        "mean_gray= 0.1307\n",
        "stddev_gray= 0.3081\n",
        "#normalize the image with std and mean\n",
        "#e.g: input[channel]=(input[channel]-mean[channel])/std(channel)\n",
        "transforms = transforms.Compose([transforms.ToTensor(), transforms.Normalize((mean_gray,),(stddev_gray,))])\n",
        "\n",
        "train_dataset=datasets.MNIST(root='./data', train=True, transform=transforms, download=True)\n",
        "test_dataset=datasets.MNIST(root='./data', train=False, transform=transforms)"
      ],
      "execution_count": 2,
      "outputs": [
        {
          "output_type": "stream",
          "text": [
            "Downloading http://yann.lecun.com/exdb/mnist/train-images-idx3-ubyte.gz\n",
            "Downloading http://yann.lecun.com/exdb/mnist/train-images-idx3-ubyte.gz to ./data/MNIST/raw/train-images-idx3-ubyte.gz\n",
            "Failed to download (trying next):\n",
            "HTTP Error 503: Service Unavailable\n",
            "\n",
            "Downloading https://ossci-datasets.s3.amazonaws.com/mnist/train-images-idx3-ubyte.gz\n",
            "Downloading https://ossci-datasets.s3.amazonaws.com/mnist/train-images-idx3-ubyte.gz to ./data/MNIST/raw/train-images-idx3-ubyte.gz\n"
          ],
          "name": "stdout"
        },
        {
          "output_type": "display_data",
          "data": {
            "application/vnd.jupyter.widget-view+json": {
              "model_id": "139930026a8048c091e14044823bf62f",
              "version_minor": 0,
              "version_major": 2
            },
            "text/plain": [
              "HBox(children=(FloatProgress(value=0.0, max=9912422.0), HTML(value='')))"
            ]
          },
          "metadata": {
            "tags": []
          }
        },
        {
          "output_type": "stream",
          "text": [
            "\n",
            "Extracting ./data/MNIST/raw/train-images-idx3-ubyte.gz to ./data/MNIST/raw\n",
            "\n",
            "Downloading http://yann.lecun.com/exdb/mnist/train-labels-idx1-ubyte.gz\n",
            "Downloading http://yann.lecun.com/exdb/mnist/train-labels-idx1-ubyte.gz to ./data/MNIST/raw/train-labels-idx1-ubyte.gz\n"
          ],
          "name": "stdout"
        },
        {
          "output_type": "display_data",
          "data": {
            "application/vnd.jupyter.widget-view+json": {
              "model_id": "cc971f90389c4be8a942509c5f9c9903",
              "version_minor": 0,
              "version_major": 2
            },
            "text/plain": [
              "HBox(children=(FloatProgress(value=0.0, max=28881.0), HTML(value='')))"
            ]
          },
          "metadata": {
            "tags": []
          }
        },
        {
          "output_type": "stream",
          "text": [
            "\n",
            "Extracting ./data/MNIST/raw/train-labels-idx1-ubyte.gz to ./data/MNIST/raw\n",
            "\n",
            "Downloading http://yann.lecun.com/exdb/mnist/t10k-images-idx3-ubyte.gz\n",
            "Downloading http://yann.lecun.com/exdb/mnist/t10k-images-idx3-ubyte.gz to ./data/MNIST/raw/t10k-images-idx3-ubyte.gz\n",
            "Failed to download (trying next):\n",
            "HTTP Error 503: Service Unavailable\n",
            "\n",
            "Downloading https://ossci-datasets.s3.amazonaws.com/mnist/t10k-images-idx3-ubyte.gz\n",
            "Downloading https://ossci-datasets.s3.amazonaws.com/mnist/t10k-images-idx3-ubyte.gz to ./data/MNIST/raw/t10k-images-idx3-ubyte.gz\n"
          ],
          "name": "stdout"
        },
        {
          "output_type": "display_data",
          "data": {
            "application/vnd.jupyter.widget-view+json": {
              "model_id": "a4bb596b4b3a49b4bf67a20aef82f009",
              "version_minor": 0,
              "version_major": 2
            },
            "text/plain": [
              "HBox(children=(FloatProgress(value=0.0, max=1648877.0), HTML(value='')))"
            ]
          },
          "metadata": {
            "tags": []
          }
        },
        {
          "output_type": "stream",
          "text": [
            "\n",
            "Extracting ./data/MNIST/raw/t10k-images-idx3-ubyte.gz to ./data/MNIST/raw\n",
            "\n",
            "Downloading http://yann.lecun.com/exdb/mnist/t10k-labels-idx1-ubyte.gz\n",
            "Downloading http://yann.lecun.com/exdb/mnist/t10k-labels-idx1-ubyte.gz to ./data/MNIST/raw/t10k-labels-idx1-ubyte.gz\n"
          ],
          "name": "stdout"
        },
        {
          "output_type": "display_data",
          "data": {
            "application/vnd.jupyter.widget-view+json": {
              "model_id": "0a14a94de62f4978969d1f8402c9fe1f",
              "version_minor": 0,
              "version_major": 2
            },
            "text/plain": [
              "HBox(children=(FloatProgress(value=0.0, max=4542.0), HTML(value='')))"
            ]
          },
          "metadata": {
            "tags": []
          }
        },
        {
          "output_type": "stream",
          "text": [
            "\n",
            "Extracting ./data/MNIST/raw/t10k-labels-idx1-ubyte.gz to ./data/MNIST/raw\n",
            "\n",
            "Processing...\n",
            "Done!\n"
          ],
          "name": "stdout"
        },
        {
          "output_type": "stream",
          "text": [
            "/usr/local/lib/python3.7/dist-packages/torchvision/datasets/mnist.py:502: UserWarning: The given NumPy array is not writeable, and PyTorch does not support non-writeable tensors. This means you can write to the underlying (supposedly non-writeable) NumPy array using the tensor. You may want to copy the array to protect its data or make it writeable before converting it to a tensor. This type of warning will be suppressed for the rest of this program. (Triggered internally at  /pytorch/torch/csrc/utils/tensor_numpy.cpp:143.)\n",
            "  return torch.from_numpy(parsed.astype(m[2], copy=False)).view(*s)\n"
          ],
          "name": "stderr"
        }
      ]
    },
    {
      "cell_type": "markdown",
      "metadata": {
        "id": "GXz0M4AWBlKD"
      },
      "source": [
        "#data exploration"
      ]
    },
    {
      "cell_type": "code",
      "metadata": {
        "colab": {
          "base_uri": "https://localhost:8080/",
          "height": 300
        },
        "id": "8gn8_NY4B-nd",
        "outputId": "38c68229-49f6-42a1-aa64-f0ee03a55485"
      },
      "source": [
        "import matplotlib.pyplot as plt\n",
        "label=train_dataset[21][1]\n",
        "print('label:', label)\n",
        "random_image = train_dataset[21][0].numpy() * stddev_gray + mean_gray\n",
        "plt.imshow(random_image.reshape(28,28), cmap='Accent')"
      ],
      "execution_count": 3,
      "outputs": [
        {
          "output_type": "stream",
          "text": [
            "label: 0\n"
          ],
          "name": "stdout"
        },
        {
          "output_type": "execute_result",
          "data": {
            "text/plain": [
              "<matplotlib.image.AxesImage at 0x7f4f6d8e1690>"
            ]
          },
          "metadata": {
            "tags": []
          },
          "execution_count": 3
        },
        {
          "output_type": "display_data",
          "data": {
            "image/png": "[encoded data removed]",
            "text/plain": [
              "<Figure size 432x288 with 1 Axes>"
            ]
          },
          "metadata": {
            "tags": [],
            "needs_background": "light"
          }
        }
      ]
    },
    {
      "cell_type": "markdown",
      "metadata": {
        "id": "IdEX_GR1CDk3"
      },
      "source": [
        "#data loaders"
      ]
    },
    {
      "cell_type": "code",
      "metadata": {
        "id": "DuA39b-oCFSN"
      },
      "source": [
        "batch_size=100\n",
        "epochs=10\n",
        "train_load=torch.utils.data.DataLoader(dataset=train_dataset, batch_size=batch_size, shuffle=True)\n",
        "test_load=torch.utils.data.DataLoader(dataset=test_dataset, batch_size=batch_size, shuffle=False)"
      ],
      "execution_count": 4,
      "outputs": []
    },
    {
      "cell_type": "code",
      "metadata": {
        "colab": {
          "base_uri": "https://localhost:8080/"
        },
        "id": "KmJ68DPrCGJv",
        "outputId": "db60eec5-9356-4e94-cd91-783cdca6b162"
      },
      "source": [
        "print(\"Number of images in training set: {}\".format(len(train_dataset)))\n",
        "print(\"Number of images in test set: {}\".format(len(test_dataset)))\n",
        "print(\"Number of batches in the train loader: {}\".format(len(train_load)))\n",
        "print(\"Number of batches in the test loader: {}\".format(len(test_load)))"
      ],
      "execution_count": 5,
      "outputs": [
        {
          "output_type": "stream",
          "text": [
            "Number of images in training set: 60000\n",
            "Number of images in test set: 10000\n",
            "Number of batches in the train loader: 600\n",
            "Number of batches in the test loader: 100\n"
          ],
          "name": "stdout"
        }
      ]
    },
    {
      "cell_type": "markdown",
      "metadata": {
        "id": "ytFv5L5UCRVU"
      },
      "source": [
        "#cnn model"
      ]
    },
    {
      "cell_type": "code",
      "metadata": {
        "id": "meFjlNkZCJYl"
      },
      "source": [
        "class CNN(nn.Module):\n",
        "  def __init__(self):\n",
        "    super(CNN, self).__init__()\n",
        "\n",
        "    # Add layer 1  - CNN, BatchNorm, Relu, MaxPool\n",
        "    self.layer1 = nn.Sequential(\n",
        "            nn.Conv2d(in_channels=1, out_channels=32, kernel_size=3, padding=1),\n",
        "            nn.BatchNorm2d(32),\n",
        "            nn.ReLU(),\n",
        "            nn.MaxPool2d(kernel_size=2, stride=2)\n",
        "    )\n",
        "      \n",
        "    # Add layer 2 - CNN, BatchNorm, Relu, MaxPool\n",
        "    self.layer2 = nn.Sequential(\n",
        "            nn.Conv2d(in_channels=32, out_channels=64, kernel_size=3),\n",
        "            nn.BatchNorm2d(64),\n",
        "            nn.ReLU(),\n",
        "            nn.MaxPool2d(2)\n",
        "    )\n",
        "        \n",
        "    # Add layer 3 - Linear, Dropout, Linear, Dropout\n",
        "    self.fc1 = nn.Linear(in_features=64*6*6, out_features=600)\n",
        "    self.drop = nn.Dropout2d(0.3)\n",
        "    self.fc2 = nn.Linear(in_features=600, out_features=120)\n",
        "    self.drop = nn.Dropout2d(0.3)\n",
        "\n",
        "  def forward(self, x):\n",
        "    out = self.layer1(x)\n",
        "    out = self.layer2(out)\n",
        "    out = out.view(out.size(0), -1)\n",
        "    out = self.fc1(out)\n",
        "    out = self.drop(out)\n",
        "    out = self.fc2(out)\n",
        "    out = self.drop(out)\n",
        "    return out"
      ],
      "execution_count": 6,
      "outputs": []
    },
    {
      "cell_type": "markdown",
      "metadata": {
        "id": "FXvNVQaACYNR"
      },
      "source": [
        "#hyper parametrers"
      ]
    },
    {
      "cell_type": "code",
      "metadata": {
        "id": "cR4alWTCCVN5"
      },
      "source": [
        "learning_rate = 0.001\n",
        "loss_fn=nn.CrossEntropyLoss()\n",
        "#loss_fn = nn.L1Loss()\n",
        "momemtum = 0.9\n",
        "\n",
        "model=CNN()\n",
        "CUDA=torch.cuda.is_available()\n",
        "if CUDA:\n",
        "  model=model.cuda()\n",
        "\n",
        "#optimizer = torch.optim.Adam(model.parameters(), lr=learning_rate)\n",
        "optimizer = torch.optim.SGD(model.parameters(), lr=learning_rate, momentum=momemtum)"
      ],
      "execution_count": 7,
      "outputs": []
    },
    {
      "cell_type": "markdown",
      "metadata": {
        "id": "tHmitaRQCib6"
      },
      "source": [
        "#expected prediction"
      ]
    },
    {
      "cell_type": "code",
      "metadata": {
        "colab": {
          "base_uri": "https://localhost:8080/"
        },
        "id": "FkRHrrzlCk2r",
        "outputId": "09622e7a-920f-4818-e3e7-8e545dec8016"
      },
      "source": [
        "iteration=0\n",
        "correct_nodata=0\n",
        "correct_data=0\n",
        "for i,(inputs,labels) in enumerate (train_load):\n",
        "  if iteration==1:\n",
        "    break\n",
        "  inputs=Variable(inputs)\n",
        "  labels=Variable(labels)\n",
        "  if torch.cuda.is_available():\n",
        "    inputs=inputs.cuda()\n",
        "    labels=labels.cuda()\n",
        "\n",
        "  print(\"For 1 iteration, this is what happens:\")\n",
        "  print(\"Input Shape:\",inputs.shape)\n",
        "  print(\"Labels Shape:\", labels.shape)\n",
        "  output = model(inputs)\n",
        "  \n",
        "  print(\"Output Shape:\",output.shape)\n",
        "  _,predicted_nodata=torch.max(output,1)\n",
        "  \n",
        "  print(\"Predicted Shape:\",predicted_nodata.shape)\n",
        "  print(\"Predicted Tensor:\",predicted_nodata)\n",
        "  correct_nodata +=(predicted_nodata==labels).sum()\n",
        "  print(\"Correct Predictions:\",correct_nodata)\n",
        "  _,predicted_data = torch.max(output.data,1)\n",
        "  correct_data +=(predicted_data==labels.data).sum()\n",
        "  \n",
        "  print(\"Correct Predictions:\",correct_data)\n",
        "  \n",
        "  iteration+=1"
      ],
      "execution_count": 8,
      "outputs": [
        {
          "output_type": "stream",
          "text": [
            "For 1 iteration, this is what happens:\n",
            "Input Shape: torch.Size([100, 1, 28, 28])\n",
            "Labels Shape: torch.Size([100])\n",
            "Output Shape: torch.Size([100, 120])\n",
            "Predicted Shape: torch.Size([100])\n",
            "Predicted Tensor: tensor([ 86,   9,  28, 113,  71,  52,  51,  38,  86,  28,  24,  43,  93,  93,\n",
            "         11,  86,  73,  27,  43,  51,  93,  58,  99,  37,  33,  12,  51,  27,\n",
            "         80, 107,  21,  38,  43,  35,  37,  35,  12,  39,  55,  12,  73, 106,\n",
            "         82,  33, 116, 105,  92,  12,  37,  28, 105,  73, 105,  24,  12, 113,\n",
            "         37, 105,  45,   2,  73,  73,  11,  35,  52,  73, 105,  27,   9,  86,\n",
            "        113,  27,  66,  28, 107,  93,  27,  24,  73,  28,  73,  80,  71,  43,\n",
            "         92,  37, 116,  12,  92,  24,  68,  37,  27,  70,  27,  95,  73,   9,\n",
            "         35,  11])\n",
            "Correct Predictions: tensor(0)\n",
            "Correct Predictions: tensor(0)\n"
          ],
          "name": "stdout"
        }
      ]
    },
    {
      "cell_type": "markdown",
      "metadata": {
        "id": "ayib5p2uCl6k"
      },
      "source": [
        "#train/test"
      ]
    },
    {
      "cell_type": "code",
      "metadata": {
        "colab": {
          "base_uri": "https://localhost:8080/"
        },
        "id": "btJlAXZSCvyG",
        "outputId": "a3afcc19-f531-4f7a-ec3b-c77afa6fc5b8"
      },
      "source": [
        "num_epochs=20\n",
        "\n",
        "train_loss=[]\n",
        "test_loss=[]\n",
        "train_accuracy=[]\n",
        "test_accuracy=[]\n",
        "\n",
        "# Training\n",
        "for epoch in range(num_epochs):\n",
        "  # Reset variables at 0 epoch\n",
        "  correct=0\n",
        "  iteration=0\n",
        "  iter_loss=0.0\n",
        "  \n",
        "  model.train() # Training Mode\n",
        "  \n",
        "  for i,(inputs,labels) in enumerate(train_load):\n",
        "    \n",
        "    inputs=Variable(inputs)\n",
        "    labels=Variable(labels)\n",
        "    \n",
        "    # if CUDA is avaible, shift to GPU (CUDA)\n",
        "    CUDA=torch.cuda.is_available()\n",
        "    if CUDA:\n",
        "      inputs=inputs.cuda()\n",
        "      labels=labels.cuda()\n",
        "      \n",
        "    optimizer.zero_grad() # clear gradient\n",
        "    outputs=model(inputs)\n",
        "    loss=loss_fn(outputs,labels)\n",
        "    iter_loss += loss.item() # Accumulate loss\n",
        "    loss.backward() # backpropagation\n",
        "    optimizer.step() # update weights\n",
        "    \n",
        "    # Save the correct predictions for training data\n",
        "    _,predicted=torch.max(outputs,1)\n",
        "    correct +=(predicted==labels).sum()\n",
        "    iteration +=1\n",
        "    \n",
        "  train_loss.append(iter_loss/iteration)\n",
        "  train_accuracy.append((100*correct/len(train_dataset)))\n",
        "  \n",
        "  # Testing\n",
        "  correct=0\n",
        "  iteration=0\n",
        "  loss=0.0\n",
        "  \n",
        "  model.eval()  # Testing Mode\n",
        "  \n",
        "  for i, (inputs, labels) in enumerate(test_load):\n",
        "    \n",
        "    inputs=Variable(inputs)\n",
        "    labels=Variable(labels)\n",
        "    \n",
        "    CUDA=torch.cuda.is_available()\n",
        "    if CUDA:\n",
        "      inputs=inputs.cuda()\n",
        "      labels=labels.cuda()\n",
        "    \n",
        "    outputs=model(inputs)\n",
        "    loss=loss_fn(outputs,labels)\n",
        "    loss += loss.item()\n",
        "    \n",
        "    _,predicted=torch.max(outputs,1)\n",
        "    correct+=(predicted==labels).sum()\n",
        "    \n",
        "    iteration+=1\n",
        "    \n",
        "  test_loss.append(loss/iteration)\n",
        "  test_accuracy.append((100*correct/len(test_dataset)))\n",
        "  \n",
        "  print('Epoch {}/{}, Training Loss:{:.3f}, Training Accuracy:{:.3f}, Testing Loss {:.3f}, Testing Accuracy:{:.3f}'\n",
        "       .format(epoch+1, num_epochs, train_loss[-1], train_accuracy[-1], test_loss[-1], test_accuracy[-1]))"
      ],
      "execution_count": 9,
      "outputs": [
        {
          "output_type": "stream",
          "text": [
            "Epoch 1/20, Training Loss:1.518, Training Accuracy:66.147, Testing Loss 0.003, Testing Accuracy:97.180\n",
            "Epoch 2/20, Training Loss:1.231, Training Accuracy:72.513, Testing Loss 0.002, Testing Accuracy:97.960\n",
            "Epoch 3/20, Training Loss:1.204, Training Accuracy:74.018, Testing Loss 0.001, Testing Accuracy:98.230\n",
            "Epoch 4/20, Training Loss:1.198, Training Accuracy:74.665, Testing Loss 0.001, Testing Accuracy:98.430\n",
            "Epoch 5/20, Training Loss:1.181, Training Accuracy:75.468, Testing Loss 0.001, Testing Accuracy:98.560\n",
            "Epoch 6/20, Training Loss:1.154, Training Accuracy:76.155, Testing Loss 0.001, Testing Accuracy:98.640\n",
            "Epoch 7/20, Training Loss:1.159, Training Accuracy:76.262, Testing Loss 0.001, Testing Accuracy:98.780\n",
            "Epoch 8/20, Training Loss:1.148, Training Accuracy:76.675, Testing Loss 0.000, Testing Accuracy:98.700\n",
            "Epoch 9/20, Training Loss:1.143, Training Accuracy:76.752, Testing Loss 0.001, Testing Accuracy:98.600\n",
            "Epoch 10/20, Training Loss:1.140, Training Accuracy:76.998, Testing Loss 0.000, Testing Accuracy:98.750\n",
            "Epoch 11/20, Training Loss:1.142, Training Accuracy:76.947, Testing Loss 0.001, Testing Accuracy:98.790\n",
            "Epoch 12/20, Training Loss:1.140, Training Accuracy:77.240, Testing Loss 0.001, Testing Accuracy:98.780\n",
            "Epoch 13/20, Training Loss:1.129, Training Accuracy:77.475, Testing Loss 0.000, Testing Accuracy:98.850\n",
            "Epoch 14/20, Training Loss:1.112, Training Accuracy:77.907, Testing Loss 0.001, Testing Accuracy:98.900\n",
            "Epoch 15/20, Training Loss:1.117, Training Accuracy:77.947, Testing Loss 0.000, Testing Accuracy:98.940\n",
            "Epoch 16/20, Training Loss:1.129, Training Accuracy:77.600, Testing Loss 0.000, Testing Accuracy:98.800\n",
            "Epoch 17/20, Training Loss:1.121, Training Accuracy:77.925, Testing Loss 0.001, Testing Accuracy:98.900\n",
            "Epoch 18/20, Training Loss:1.121, Training Accuracy:77.832, Testing Loss 0.000, Testing Accuracy:98.990\n",
            "Epoch 19/20, Training Loss:1.116, Training Accuracy:78.073, Testing Loss 0.000, Testing Accuracy:98.980\n",
            "Epoch 20/20, Training Loss:1.121, Training Accuracy:77.862, Testing Loss 0.000, Testing Accuracy:98.950\n"
          ],
          "name": "stdout"
        }
      ]
    },
    {
      "cell_type": "markdown",
      "metadata": {
        "id": "P-Q3S9rrCwqS"
      },
      "source": [
        "#evaluation"
      ]
    },
    {
      "cell_type": "code",
      "metadata": {
        "colab": {
          "base_uri": "https://localhost:8080/",
          "height": 592
        },
        "id": "RfAjFoPvC1YD",
        "outputId": "23c85ead-14e4-4498-a33a-a9261f3234fa"
      },
      "source": [
        "# Loss\n",
        "f=plt.figure(figsize=(10,10))\n",
        "plt.plot(train_loss, label='Training Loss')\n",
        "plt.plot(test_loss, label='Testing Loss')\n",
        "plt.legend()\n",
        "plt.show()"
      ],
      "execution_count": 10,
      "outputs": [
        {
          "output_type": "display_data",
          "data": {
            "image/png": "[encoded data removed]",
            "text/plain": [
              "<Figure size 720x720 with 1 Axes>"
            ]
          },
          "metadata": {
            "tags": [],
            "needs_background": "light"
          }
        }
      ]
    },
    {
      "cell_type": "markdown",
      "metadata": {
        "id": "DPKcXEZsC5AO"
      },
      "source": [
        "#accuracy"
      ]
    },
    {
      "cell_type": "code",
      "metadata": {
        "colab": {
          "base_uri": "https://localhost:8080/",
          "height": 592
        },
        "id": "_CBm_cNmC6eo",
        "outputId": "77242476-0bb1-4727-92cc-a4288cfe7400"
      },
      "source": [
        "# Accuracy\n",
        "f=plt.figure(figsize=(10,10))\n",
        "plt.plot(train_accuracy, label='Training Accuracy')\n",
        "plt.plot(test_accuracy, label='Testing Accuracy')\n",
        "plt.legend()\n",
        "plt.show()"
      ],
      "execution_count": 11,
      "outputs": [
        {
          "output_type": "display_data",
          "data": {
            "image/png": "[encoded data removed]",
            "text/plain": [
              "<Figure size 720x720 with 1 Axes>"
            ]
          },
          "metadata": {
            "tags": [],
            "needs_background": "light"
          }
        }
      ]
    },
    {
      "cell_type": "markdown",
      "metadata": {
        "id": "1IejFPN9C-Wa"
      },
      "source": [
        "#prediction"
      ]
    },
    {
      "cell_type": "code",
      "metadata": {
        "colab": {
          "base_uri": "https://localhost:8080/"
        },
        "id": "5PgMbapJC_3n",
        "outputId": "a472c7b9-e554-4cbc-c87d-d4539ca6bdb7"
      },
      "source": [
        "img= test_dataset[40][0].resize_((1,1,28,28))\n",
        "img= Variable(img)\n",
        "label= test_dataset[40][1]\n",
        "\n",
        "model.eval()\n",
        "\n",
        "if torch.cuda.is_available():\n",
        "  model=model.cuda()\n",
        "  img=img.cuda()\n",
        "  \n",
        "output=model(img)\n",
        "print(output)\n",
        "print(output.data)\n",
        "_,predicted=torch.max(output,1)\n",
        "print(\"Prediction is:\",predicted.item())\n",
        "print(\"Actual is:\", label)"
      ],
      "execution_count": 12,
      "outputs": [
        {
          "output_type": "stream",
          "text": [
            "tensor([[-4.1856,  6.8537, -4.3341, -4.4672, -2.0447, -2.5556, -6.1744, -2.4187,\n",
            "         -1.2644, -2.5810, -4.1525, -4.2048, -3.8834, -4.1639, -4.4010, -4.0217,\n",
            "         -4.4004, -4.4757, -4.3101, -4.0819, -4.4885, -4.3720, -4.1018, -4.3284,\n",
            "         -4.0098, -4.3211, -3.9736, -3.9564, -4.1772, -3.4527, -4.4091, -4.0022,\n",
            "         -3.8906, -3.9353, -4.0369, -3.7924, -4.6578, -4.4074, -3.8560, -4.5212,\n",
            "         -4.1168, -4.3782, -4.5778, -4.3923, -4.3894, -4.1759, -4.5436, -4.2570,\n",
            "         -4.1188, -4.4592, -4.3037, -4.5029, -4.5510, -4.6508, -3.9209, -3.9961,\n",
            "         -3.7748, -5.0310, -3.5308, -4.1354, -4.1940, -3.9937, -4.2604, -4.3975,\n",
            "         -4.7282, -3.7845, -4.0394, -4.2991, -3.7041, -3.9042, -4.2317, -3.8864,\n",
            "         -4.6427, -3.8060, -4.2560, -4.5499, -4.4302, -4.5123, -4.1775, -4.1937,\n",
            "         -3.5148, -4.2097, -4.1435, -4.2312, -4.4721, -4.2636, -4.6341, -4.6985,\n",
            "         -4.6298, -4.2169, -4.4510, -4.6865, -4.1784, -3.9601, -4.0327, -4.1997,\n",
            "         -4.0751, -4.1893, -4.3912, -3.6673, -3.9354, -4.1051, -4.1386, -4.1962,\n",
            "         -4.2676, -4.5368, -4.3465, -4.4734, -4.0779, -4.2703, -4.3678, -3.5405,\n",
            "         -4.5537, -4.3049, -4.1132, -4.0613, -3.9534, -4.3715, -4.0278, -3.9949]],\n",
            "       grad_fn=<AddmmBackward>)\n",
            "tensor([[-4.1856,  6.8537, -4.3341, -4.4672, -2.0447, -2.5556, -6.1744, -2.4187,\n",
            "         -1.2644, -2.5810, -4.1525, -4.2048, -3.8834, -4.1639, -4.4010, -4.0217,\n",
            "         -4.4004, -4.4757, -4.3101, -4.0819, -4.4885, -4.3720, -4.1018, -4.3284,\n",
            "         -4.0098, -4.3211, -3.9736, -3.9564, -4.1772, -3.4527, -4.4091, -4.0022,\n",
            "         -3.8906, -3.9353, -4.0369, -3.7924, -4.6578, -4.4074, -3.8560, -4.5212,\n",
            "         -4.1168, -4.3782, -4.5778, -4.3923, -4.3894, -4.1759, -4.5436, -4.2570,\n",
            "         -4.1188, -4.4592, -4.3037, -4.5029, -4.5510, -4.6508, -3.9209, -3.9961,\n",
            "         -3.7748, -5.0310, -3.5308, -4.1354, -4.1940, -3.9937, -4.2604, -4.3975,\n",
            "         -4.7282, -3.7845, -4.0394, -4.2991, -3.7041, -3.9042, -4.2317, -3.8864,\n",
            "         -4.6427, -3.8060, -4.2560, -4.5499, -4.4302, -4.5123, -4.1775, -4.1937,\n",
            "         -3.5148, -4.2097, -4.1435, -4.2312, -4.4721, -4.2636, -4.6341, -4.6985,\n",
            "         -4.6298, -4.2169, -4.4510, -4.6865, -4.1784, -3.9601, -4.0327, -4.1997,\n",
            "         -4.0751, -4.1893, -4.3912, -3.6673, -3.9354, -4.1051, -4.1386, -4.1962,\n",
            "         -4.2676, -4.5368, -4.3465, -4.4734, -4.0779, -4.2703, -4.3678, -3.5405,\n",
            "         -4.5537, -4.3049, -4.1132, -4.0613, -3.9534, -4.3715, -4.0278, -3.9949]])\n",
            "Prediction is: 1\n",
            "Actual is: 1\n"
          ],
          "name": "stdout"
        }
      ]
    }
  ]
}